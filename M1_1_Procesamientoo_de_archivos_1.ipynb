{
  "nbformat": 4,
  "nbformat_minor": 0,
  "metadata": {
    "colab": {
      "provenance": [],
      "include_colab_link": true
    },
    "kernelspec": {
      "name": "python3",
      "display_name": "Python 3"
    },
    "language_info": {
      "name": "python"
    }
  },
  "cells": [
    {
      "cell_type": "markdown",
      "metadata": {
        "id": "view-in-github",
        "colab_type": "text"
      },
      "source": [
        "<a href=\"https://colab.research.google.com/github/a01737544/Analitica_Datos/blob/main/M1_1_Procesamientoo_de_archivos_1.ipynb\" target=\"_parent\"><img src=\"https://colab.research.google.com/assets/colab-badge.svg\" alt=\"Open In Colab\"/></a>"
      ]
    },
    {
      "cell_type": "code",
      "execution_count": null,
      "metadata": {
        "id": "GEwagLTVoaKe",
        "colab": {
          "base_uri": "https://localhost:8080/"
        },
        "outputId": "2346e6f6-e841-416e-dd0e-bf5d800de6da"
      },
      "outputs": [
        {
          "output_type": "stream",
          "name": "stdout",
          "text": [
            "(6820, 16)\n"
          ]
        }
      ],
      "source": [
        "#cargar el archivo\n",
        "import pandas as pd\n",
        "df = pd.read_csv('/content/movies.csv')\n",
        "print(df.shape)\n"
      ]
    },
    {
      "cell_type": "code",
      "source": [
        "print(df.columns)"
      ],
      "metadata": {
        "colab": {
          "base_uri": "https://localhost:8080/"
        },
        "id": "ArzmmTP0sMth",
        "outputId": "fb75f1f8-5ad0-4caf-e6bd-9dbbae4c0b87"
      },
      "execution_count": null,
      "outputs": [
        {
          "output_type": "stream",
          "name": "stdout",
          "text": [
            "Index(['millones', 'budget', 'company', 'country', 'director', 'genre',\n",
            "       'gross', 'name', 'rating', 'released', 'runtime', 'score', 'star',\n",
            "       'votes', 'writer', 'year'],\n",
            "      dtype='object')\n"
          ]
        }
      ]
    },
    {
      "cell_type": "code",
      "source": [
        "print(df.info())"
      ],
      "metadata": {
        "colab": {
          "base_uri": "https://localhost:8080/"
        },
        "id": "hkKiP6yhsShp",
        "outputId": "ece8c9ef-6d4a-4f09-fca1-833433d3f3c1"
      },
      "execution_count": null,
      "outputs": [
        {
          "output_type": "stream",
          "name": "stdout",
          "text": [
            "<class 'pandas.core.frame.DataFrame'>\n",
            "RangeIndex: 6820 entries, 0 to 6819\n",
            "Data columns (total 16 columns):\n",
            " #   Column    Non-Null Count  Dtype  \n",
            "---  ------    --------------  -----  \n",
            " 0   millones  6820 non-null   float64\n",
            " 1   budget    6820 non-null   int64  \n",
            " 2   company   6820 non-null   object \n",
            " 3   country   6820 non-null   object \n",
            " 4   director  6820 non-null   object \n",
            " 5   genre     6820 non-null   object \n",
            " 6   gross     6820 non-null   int64  \n",
            " 7   name      6820 non-null   object \n",
            " 8   rating    6820 non-null   object \n",
            " 9   released  6820 non-null   object \n",
            " 10  runtime   6820 non-null   int64  \n",
            " 11  score     6820 non-null   float64\n",
            " 12  star      6820 non-null   object \n",
            " 13  votes     6820 non-null   int64  \n",
            " 14  writer    6820 non-null   object \n",
            " 15  year      6820 non-null   int64  \n",
            "dtypes: float64(2), int64(5), object(9)\n",
            "memory usage: 852.6+ KB\n",
            "None\n"
          ]
        }
      ]
    },
    {
      "cell_type": "code",
      "source": [
        "print(df.dtypes)"
      ],
      "metadata": {
        "colab": {
          "base_uri": "https://localhost:8080/"
        },
        "id": "XwUxz2Nqsbvc",
        "outputId": "0a1a271e-40af-4dba-c542-0aac9f985eed"
      },
      "execution_count": null,
      "outputs": [
        {
          "output_type": "stream",
          "name": "stdout",
          "text": [
            "millones    float64\n",
            "budget        int64\n",
            "company      object\n",
            "country      object\n",
            "director     object\n",
            "genre        object\n",
            "gross         int64\n",
            "name         object\n",
            "rating       object\n",
            "released     object\n",
            "runtime       int64\n",
            "score       float64\n",
            "star         object\n",
            "votes         int64\n",
            "writer       object\n",
            "year          int64\n",
            "dtype: object\n"
          ]
        }
      ]
    },
    {
      "cell_type": "code",
      "source": [
        "#seleccion de 8 columnas\n",
        "df2 = df[['budget','star','company','country','director','genre','score','runtime']]\n",
        "print(df2.shape)"
      ],
      "metadata": {
        "colab": {
          "base_uri": "https://localhost:8080/"
        },
        "id": "TBogW1xDqrTs",
        "outputId": "7f9cda16-19de-4ee4-a37e-6925c3300fd7"
      },
      "execution_count": null,
      "outputs": [
        {
          "output_type": "stream",
          "name": "stdout",
          "text": [
            "(6820, 8)\n"
          ]
        }
      ]
    },
    {
      "cell_type": "code",
      "source": [
        "print(df2['runtime'].describe())"
      ],
      "metadata": {
        "colab": {
          "base_uri": "https://localhost:8080/"
        },
        "id": "Vr53a7uWsvbv",
        "outputId": "7045c458-3c25-4041-9f66-9b20c09b4354"
      },
      "execution_count": null,
      "outputs": [
        {
          "output_type": "stream",
          "name": "stdout",
          "text": [
            "count    6820.00000\n",
            "mean      106.55132\n",
            "std        18.02818\n",
            "min        50.00000\n",
            "25%        95.00000\n",
            "50%       102.00000\n",
            "75%       115.00000\n",
            "max       366.00000\n",
            "Name: runtime, dtype: float64\n"
          ]
        }
      ]
    },
    {
      "cell_type": "code",
      "source": [
        "print(df2['score'].describe())"
      ],
      "metadata": {
        "colab": {
          "base_uri": "https://localhost:8080/"
        },
        "id": "h2ut_9ogtDo6",
        "outputId": "983bb1ef-12b0-4159-eb17-54eb1e657533"
      },
      "execution_count": null,
      "outputs": [
        {
          "output_type": "stream",
          "name": "stdout",
          "text": [
            "count    6820.000000\n",
            "mean        6.374897\n",
            "std         1.003142\n",
            "min         1.500000\n",
            "25%         5.800000\n",
            "50%         6.400000\n",
            "75%         7.100000\n",
            "max         9.300000\n",
            "Name: score, dtype: float64\n"
          ]
        }
      ]
    },
    {
      "cell_type": "code",
      "source": [
        "print(df2['director'].value_counts())"
      ],
      "metadata": {
        "colab": {
          "base_uri": "https://localhost:8080/"
        },
        "id": "is-ANv7ktSRK",
        "outputId": "3d3a43b6-a973-4269-8f5c-60de88352ce2"
      },
      "execution_count": null,
      "outputs": [
        {
          "output_type": "stream",
          "name": "stdout",
          "text": [
            "director\n",
            "Woody Allen          33\n",
            "Clint Eastwood       24\n",
            "Steven Spielberg     21\n",
            "Steven Soderbergh    21\n",
            "Ron Howard           20\n",
            "                     ..\n",
            "Deon Taylor           1\n",
            "Justin Kelly          1\n",
            "Johannes Roberts      1\n",
            "Takeshi Nozue         1\n",
            "James Schamus         1\n",
            "Name: count, Length: 2755, dtype: int64\n"
          ]
        }
      ]
    },
    {
      "cell_type": "code",
      "source": [
        "print(df2['star'].value_counts())"
      ],
      "metadata": {
        "colab": {
          "base_uri": "https://localhost:8080/"
        },
        "id": "12ZJ2I4ktW2_",
        "outputId": "4be2e7a7-f39c-41d6-e9cd-492e11c4542f"
      },
      "execution_count": null,
      "outputs": [
        {
          "output_type": "stream",
          "name": "stdout",
          "text": [
            "star\n",
            "Nicolas Cage          42\n",
            "Robert De Niro        38\n",
            "Denzel Washington     36\n",
            "Tom Hanks             35\n",
            "Bruce Willis          33\n",
            "                      ..\n",
            "Jack Huston            1\n",
            "Teresa Palmer          1\n",
            "John Gallagher Jr.     1\n",
            "Taron Egerton          1\n",
            "Neel Sethi             1\n",
            "Name: count, Length: 2503, dtype: int64\n"
          ]
        }
      ]
    },
    {
      "cell_type": "code",
      "source": [
        "\n",
        "plt.subplot(221)\n",
        "plt.hist(df['budget',bins=20,color='green'])"
      ],
      "metadata": {
        "colab": {
          "base_uri": "https://localhost:8080/",
          "height": 106
        },
        "id": "N8ENF0m2tZ3z",
        "outputId": "031caad0-6d8e-4b2f-bcae-cdb66d4f5d0d"
      },
      "execution_count": null,
      "outputs": [
        {
          "output_type": "error",
          "ename": "SyntaxError",
          "evalue": "invalid syntax. Maybe you meant '==' or ':=' instead of '='? (ipython-input-315226561.py, line 2)",
          "traceback": [
            "\u001b[0;36m  File \u001b[0;32m\"/tmp/ipython-input-315226561.py\"\u001b[0;36m, line \u001b[0;32m2\u001b[0m\n\u001b[0;31m    plt.hist(df['budget',bins=20,color='green'])\u001b[0m\n\u001b[0m                         ^\u001b[0m\n\u001b[0;31mSyntaxError\u001b[0m\u001b[0;31m:\u001b[0m invalid syntax. Maybe you meant '==' or ':=' instead of '='?\n"
          ]
        }
      ]
    }
  ]
}